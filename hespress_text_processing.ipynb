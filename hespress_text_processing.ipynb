{
 "cells": [
  {
   "cell_type": "code",
   "execution_count": 3,
   "metadata": {},
   "outputs": [],
   "source": [
    "from __future__ import unicode_literals\n",
    "\n",
    "import re\n",
    "from collections import Counter\n",
    "import arabic_reshaper\n",
    "from bidi.algorithm import get_display\n",
    "from wordcloud import WordCloud\n",
    "import matplotlib.pyplot as plt\n",
    "import numpy as np\n",
    "from terminaltables import AsciiTable"
   ]
  },
  {
   "cell_type": "code",
   "execution_count": 4,
   "metadata": {},
   "outputs": [],
   "source": [
    "f = open(\"hespress.txt\", \"r\", encoding='utf-8')\n",
    "tokens = (f.read()).split()\n",
    "f.close()\n",
    "\n",
    "f = open(\"arabic_stopwords.txt\", \"r\", encoding=\"utf-8\")\n",
    "stopwords = (f.read()).split()\n",
    "f.close()"
   ]
  },
  {
   "cell_type": "code",
   "execution_count": 5,
   "metadata": {},
   "outputs": [
    {
     "name": "stdout",
     "output_type": "stream",
     "text": [
      "813\n",
      "2790303\n"
     ]
    }
   ],
   "source": [
    "print(len(stopwords))\n",
    "print(len(tokens))"
   ]
  },
  {
   "cell_type": "code",
   "execution_count": 6,
   "metadata": {},
   "outputs": [
    {
     "name": "stdout",
     "output_type": "stream",
     "text": [
      "1901493\n",
      "Wall time: 22.3 s\n"
     ]
    }
   ],
   "source": [
    "%%time \n",
    "tokens = [token for token in tokens if token not in stopwords]\n",
    "print(len(tokens))"
   ]
  },
  {
   "cell_type": "code",
   "execution_count": 7,
   "metadata": {},
   "outputs": [
    {
     "name": "stdout",
     "output_type": "stream",
     "text": [
      "Wall time: 3.44 s\n"
     ]
    }
   ],
   "source": [
    "%%time\n",
    "for i in range(len(tokens)):\n",
    "    if(tokens[i] in [\"بالله\", \"والله\", \"تالله\", \"اللهم\", \"لله\"]): tokens[i] = \"الله\"\n",
    "    if(tokens[i] in [\"المغربية\", \"المغربي\", \"المغاربة\"]): tokens[i] = \"المغرب\"\n",
    "    if(tokens[i] in [\"مواطن\"]): tokens[i] = \"وطن\"\n",
    "    if(tokens[i] in [\"رجال\",\"رجلين\"]): tokens[i] = \"رجل\"\n",
    "    if(tokens[i] in [\"دول\", \"دولي\"]): tokens[i] = \"دولة\"\n",
    "    if(tokens[i] != 'الله'): tokens[i] = re.sub('^ال','',tokens[i])"
   ]
  },
  {
   "cell_type": "code",
   "execution_count": 8,
   "metadata": {},
   "outputs": [
    {
     "name": "stdout",
     "output_type": "stream",
     "text": [
      "<class 'collections.Counter'>\n",
      "Wall time: 435 ms\n"
     ]
    }
   ],
   "source": [
    "%%time\n",
    "count = Counter(tokens)\n",
    "print(type(count))"
   ]
  },
  {
   "cell_type": "code",
   "execution_count": 9,
   "metadata": {},
   "outputs": [
    {
     "name": "stdout",
     "output_type": "stream",
     "text": [
      "[('الله', 23297), ('مغرب', 22943), ('دولة', 7387), ('شعب', 6163), ('حكومة', 3544), ('ناس', 3222), ('عالم', 3180), ('حق', 3037), ('تعليم', 2999), ('بلاد', 2970)]\n"
     ]
    }
   ],
   "source": [
    "print(count.most_common(10))"
   ]
  },
  {
   "cell_type": "code",
   "execution_count": 10,
   "metadata": {},
   "outputs": [
    {
     "name": "stderr",
     "output_type": "stream",
     "text": [
      "E:\\ProgramData\\Anaconda3\\lib\\site-packages\\matplotlib\\backends\\backend_agg.py:211: RuntimeWarning: Glyph 65010 missing from current font.\n",
      "  font.set_text(s, 0.0, flags=flags)\n",
      "E:\\ProgramData\\Anaconda3\\lib\\site-packages\\matplotlib\\backends\\backend_agg.py:176: RuntimeWarning: Glyph 65010 missing from current font.\n",
      "  font.load_char(ord(s), flags=flags)\n"
     ]
    },
    {
     "data": {
      "image/png": "[encoded data removed]",
      "text/plain": [
       "<Figure size 1800x720 with 1 Axes>"
      ]
     },
     "metadata": {
      "needs_background": "light"
     },
     "output_type": "display_data"
    }
   ],
   "source": [
    "from random import shuffle\n",
    "\n",
    "\n",
    "data = count.most_common(50)\n",
    "\n",
    "words = []\n",
    "frequency = []\n",
    "\n",
    "for i in range(50):\n",
    "    words.append(get_display(arabic_reshaper.reshape(data[i][0])))\n",
    "    frequency.append(data[i][1])\n",
    "\n",
    "plt.figure(figsize=(25,10))\n",
    "\n",
    "plt.xticks(rotation=90)\n",
    "plt.subplots_adjust(bottom=0.4)\n",
    "\n",
    "plt.rcParams.update({'font.size': 22})\n",
    "plt.bar(words, frequency, color='r')\n",
    "plt.show()"
   ]
  },
  {
   "cell_type": "code",
   "execution_count": 15,
   "metadata": {},
   "outputs": [
    {
     "name": "stdout",
     "output_type": "stream",
     "text": [
      "+-----------+-------+\n",
      "| Frequency | Word  |\n",
      "+-----------+-------+\n",
      "| 23297     | الله  |\n",
      "| 22943     | مغرب  |\n",
      "| 7387      | دولة  |\n",
      "| 6163      | شعب   |\n",
      "| 3544      | حكومة |\n",
      "| 3222      | ناس   |\n",
      "| 3180      | عالم  |\n",
      "| 3037      | حق    |\n",
      "| 2999      | تعليم |\n",
      "| 2970      | بلاد  |\n",
      "+-----------+-------+\n"
     ]
    }
   ],
   "source": [
    "table_data = [\n",
    "    ['Frequency', 'Word'],\n",
    "]\n",
    "for d in data[:10]:\n",
    "    table_data.append([d[1], d[0]])\n",
    "table = AsciiTable(table_data)\n",
    "print(table.table)"
   ]
  },
  {
   "cell_type": "code",
   "execution_count": null,
   "metadata": {},
   "outputs": [],
   "source": []
  }
 ],
 "metadata": {
  "kernelspec": {
   "display_name": "Python 3",
   "language": "python",
   "name": "python3"
  },
  "language_info": {
   "codemirror_mode": {
    "name": "ipython",
    "version": 3
   },
   "file_extension": ".py",
   "mimetype": "text/x-python",
   "name": "python",
   "nbconvert_exporter": "python",
   "pygments_lexer": "ipython3",
   "version": "3.7.4"
  }
 },
 "nbformat": 4,
 "nbformat_minor": 2
}
