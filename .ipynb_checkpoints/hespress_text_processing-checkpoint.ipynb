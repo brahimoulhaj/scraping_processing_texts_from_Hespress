{
 "cells": [
  {
   "cell_type": "code",
   "execution_count": 1,
   "metadata": {},
   "outputs": [],
   "source": [
    "import re\n",
    "from collections import Counter"
   ]
  },
  {
   "cell_type": "code",
   "execution_count": 17,
   "metadata": {},
   "outputs": [],
   "source": [
    "f = open(\"hespress.txt\", \"r\", encoding='utf-8')\n",
    "tokens = (f.read()).split()\n",
    "f.close()\n",
    "\n",
    "f = open(\"arabic_stopwords.txt\", \"r\", encoding=\"utf-8\")\n",
    "stopwords = (f.read()).split()\n",
    "f.close()"
   ]
  },
  {
   "cell_type": "code",
   "execution_count": 18,
   "metadata": {},
   "outputs": [
    {
     "name": "stdout",
     "output_type": "stream",
     "text": [
      "813\n",
      "2790303\n"
     ]
    }
   ],
   "source": [
    "print(len(stopwords))\n",
    "print(len(tokens))"
   ]
  },
  {
   "cell_type": "code",
   "execution_count": 19,
   "metadata": {},
   "outputs": [
    {
     "name": "stdout",
     "output_type": "stream",
     "text": [
      "1901493\n",
      "Wall time: 24 s\n"
     ]
    }
   ],
   "source": [
    "%%time \n",
    "tokens = [token for token in tokens if token not in stopwords]\n",
    "print(len(tokens))"
   ]
  },
  {
   "cell_type": "code",
   "execution_count": 28,
   "metadata": {},
   "outputs": [
    {
     "name": "stdout",
     "output_type": "stream",
     "text": [
      "Wall time: 2.97 s\n"
     ]
    }
   ],
   "source": [
    "%%time\n",
    "for i in range(len(tokens)):\n",
    "    if(tokens[i] in [\"بالله\", \"والله\", \"تالله\", \"اللهم\", \"لله\"]): tokens[i] = \"الله\"\n",
    "    if(tokens[i] in [\"المغربية\", \"المغربي\", \"المغاربة\"]): tokens[i] = \"المغرب\"\n",
    "    if(tokens[i] in [\"مواطن\"]): tokens[i] = \"وطن\"\n",
    "    if(tokens[i] in [\"دول\", \"دولي\"]): tokens[i] = \"دولة\"\n",
    "    if(tokens[i] != 'الله'): tokens[i] = re.sub('^ال','',tokens[i])"
   ]
  },
  {
   "cell_type": "code",
   "execution_count": 29,
   "metadata": {},
   "outputs": [
    {
     "name": "stdout",
     "output_type": "stream",
     "text": [
      "<class 'collections.Counter'>\n",
      "Wall time: 385 ms\n"
     ]
    }
   ],
   "source": [
    "%%time\n",
    "count = Counter(tokens)\n",
    "print(type(count))"
   ]
  },
  {
   "cell_type": "code",
   "execution_count": 30,
   "metadata": {},
   "outputs": [
    {
     "name": "stdout",
     "output_type": "stream",
     "text": [
      "('الله', 23304)\n",
      "('مغرب', 22943)\n",
      "('دولة', 10270)\n",
      "('شعب', 6163)\n",
      "('وطن', 4582)\n",
      "('حكومة', 3544)\n",
      "('ناس', 3222)\n",
      "('عالم', 3180)\n",
      "('حق', 3037)\n",
      "('تعليم', 2999)\n",
      "('بلاد', 2970)\n",
      "('عربية', 2719)\n",
      "('قانون', 2703)\n",
      "('بلد', 2677)\n",
      "('ملك', 2371)\n",
      "('عمل', 2366)\n",
      "('حزب', 2334)\n",
      "('جزائر', 2157)\n",
      "('دين', 2113)\n",
      "('لغة', 2085)\n"
     ]
    }
   ],
   "source": [
    "print(*count.most_common(20), sep='\\n')"
   ]
  },
  {
   "cell_type": "code",
   "execution_count": null,
   "metadata": {},
   "outputs": [],
   "source": []
  }
 ],
 "metadata": {
  "kernelspec": {
   "display_name": "Python 3",
   "language": "python",
   "name": "python3"
  },
  "language_info": {
   "codemirror_mode": {
    "name": "ipython",
    "version": 3
   },
   "file_extension": ".py",
   "mimetype": "text/x-python",
   "name": "python",
   "nbconvert_exporter": "python",
   "pygments_lexer": "ipython3",
   "version": "3.7.4"
  }
 },
 "nbformat": 4,
 "nbformat_minor": 2
}
